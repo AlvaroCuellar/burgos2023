{
 "cells": [
  {
   "cell_type": "code",
   "execution_count": null,
   "id": "4cd2d53c-a48b-4bb8-84ef-98d8f13350bf",
   "metadata": {
    "tags": []
   },
   "outputs": [],
   "source": [
    "import pandas as pd\n",
    "\n",
    "\n",
    "df = pd.read_csv('corpus.csv')\n",
    "df.head()"
   ]
  },
  {
   "cell_type": "code",
   "execution_count": null,
   "id": "2a32b24d-c130-4cd5-8fc4-207a6f8e8b30",
   "metadata": {
    "tags": []
   },
   "outputs": [],
   "source": [
    "df.tail()"
   ]
  },
  {
   "cell_type": "code",
   "execution_count": null,
   "id": "01b58b4e-3912-4c10-a51e-5dc2132c98a5",
   "metadata": {
    "tags": []
   },
   "outputs": [],
   "source": [
    "df.shape"
   ]
  },
  {
   "cell_type": "code",
   "execution_count": null,
   "id": "90db6164-70b9-4add-bb36-1da33da14d12",
   "metadata": {
    "tags": []
   },
   "outputs": [],
   "source": [
    "df['Title'].unique()"
   ]
  },
  {
   "cell_type": "code",
   "execution_count": null,
   "id": "da6de3bc-f9f9-497a-8cbe-250bc882c5eb",
   "metadata": {
    "tags": []
   },
   "outputs": [],
   "source": [
    "obra = 'El secreto a voces'\n",
    "\n",
    "duda = df.loc[df['Title'] == obra]\n",
    "duda.head()"
   ]
  },
  {
   "cell_type": "code",
   "execution_count": null,
   "id": "77f31eef-07b8-43be-b309-d9128cd79adc",
   "metadata": {
    "tags": []
   },
   "outputs": [],
   "source": [
    "generos = df.groupby('Genre').nunique()\n",
    "generos"
   ]
  },
  {
   "cell_type": "code",
   "execution_count": null,
   "id": "a925ced1-dd81-47cf-bbee-e30d931ab373",
   "metadata": {
    "tags": []
   },
   "outputs": [],
   "source": [
    "result = generos.plot(kind='pie', legend =True, y = 'Title')\n",
    "\n",
    "result.legend(bbox_to_anchor=(1, 2.02), loc='upper left')"
   ]
  },
  {
   "cell_type": "code",
   "execution_count": null,
   "id": "84445d8c-8b17-4b55-9e58-cc5dd3cd3fa3",
   "metadata": {
    "tags": []
   },
   "outputs": [],
   "source": [
    "autor = 'Mira'\n",
    "\n",
    "\n",
    "author = df.loc[df['Author'] == autor] \n",
    "rhythms = author.groupby(['Rhythm']).size()                           \n",
    "rhythms.sort_values(ascending =False)  "
   ]
  },
  {
   "cell_type": "markdown",
   "id": "b645e73a-1580-44c6-9e86-e8b9da365d86",
   "metadata": {},
   "source": [
    "## Ejercicios\n",
    "*Determina cuántas obras de Lope y Calderón hay en el dataframe.\n",
    "\n",
    "*Crea un plot para visualizar la distribución de los autores en el dataframe.\n",
    "\n",
    "*Elije una obra del corpus (la que más te guste) y mira cuántos versos tiene.\n",
    "\n",
    "*Elije diferentes autores o géneros y determina la frecuencia absoluta de los ritmos.\n",
    "\n",
    "*Extra: ¿Puedes reducir el resultado del ejercicio anterior a sólo octosílabos? (Hay una columna solo para el número de sílabas)."
   ]
  },
  {
   "cell_type": "code",
   "execution_count": null,
   "id": "fc819fcb-020c-4ed8-a804-716568a59636",
   "metadata": {},
   "outputs": [],
   "source": []
  }
 ],
 "metadata": {
  "kernelspec": {
   "display_name": "Python 3 (ipykernel)",
   "language": "python",
   "name": "python3"
  },
  "language_info": {
   "codemirror_mode": {
    "name": "ipython",
    "version": 3
   },
   "file_extension": ".py",
   "mimetype": "text/x-python",
   "name": "python",
   "nbconvert_exporter": "python",
   "pygments_lexer": "ipython3",
   "version": "3.11.4"
  }
 },
 "nbformat": 4,
 "nbformat_minor": 5
}
