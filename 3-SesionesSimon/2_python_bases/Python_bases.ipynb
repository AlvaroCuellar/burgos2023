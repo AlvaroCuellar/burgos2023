{
 "cells": [
  {
   "cell_type": "code",
   "execution_count": null,
   "id": "592a8cbe-7b28-4eed-a48a-c4c22ed53cb5",
   "metadata": {},
   "outputs": [],
   "source": [
    "#Podemos crear variables y guardar datos con diferentes estructuras en ella. Pueden ser números, strings o listas (y más cosas que no vimos en clase) \n",
    "\n",
    "a = \"Calderón y Lope\" #string\n",
    "\n",
    "b = 3 #número\n",
    "\n",
    "c = '3' #string con la apariencia de número, se puede concatenar con el string\n",
    "\n",
    "d = a + c\n",
    "\n",
    "print(d) #El comando print nos saca lo que se haya guardado en una variable.\n",
    "print(type(d)) #El comando print(type(variable)) nos describe el tipo de dato que se encuentra en la variable"
   ]
  },
  {
   "cell_type": "code",
   "execution_count": null,
   "id": "b3ac1644-8409-4186-990e-2508f628639b",
   "metadata": {},
   "outputs": [],
   "source": [
    "prueba = 'Calderón y Lope fueron poetas. Fueron dramaturgos del Siglo de Oro español'\n",
    "prueba1 = 8\n",
    "\n",
    "#Podemos aplicar diferentes métodos a la variable siempre que el método sea aplicable al tipo de dato guardado. Podéis probar los mismos métodos con una variable que contiene un número. A ver qué sale,…\n",
    "\n",
    "a = prueba.lower() #pasa todo a minúscula\n",
    "b = prueba.upper() #pasa todo a mayúscula\n",
    "\n",
    "#Fijaos en la síntaxis. Llamamos el objeto con la variable y separamos el método que le aplicamos con un punto.\n",
    "\n",
    "c = a.split()\n",
    "\n",
    "#El método split es muy útil para trabajar con textos, convierte el string en una lista de los elementos que lo componen. En los paréntesis podemos especificar dónde queremos que corte. Si quisiéramos cortar en las comas especificamos variable.split(\",\").\n",
    "\n",
    "print(a)\n"
   ]
  },
  {
   "cell_type": "code",
   "execution_count": null,
   "id": "96351a4d-c384-459e-919f-038e48f86125",
   "metadata": {},
   "outputs": [],
   "source": [
    "#Con bucles en for podemos pasar elemento por elemento por el string.\n",
    "#Con if podemos preguntar por una condición en cada bucle. Ojo al '==', el '=' es solo para las variables.\n",
    "#Fijaos también que en lugar de la 'a' podríamos pasarle una variable, tal y como lo vemos en el siguiente ejemplo.\n",
    "for letra in prueba:\n",
    "    if letra == 'a':\n",
    "        print(letra)"
   ]
  },
  {
   "cell_type": "code",
   "execution_count": null,
   "id": "c13cf1cd-28ee-42a3-a8ff-b29dfc3d3b96",
   "metadata": {},
   "outputs": [],
   "source": [
    "letra_buscada = 'a'\n",
    "\n",
    "for letra in prueba:\n",
    "    if letra == letra_buscada:\n",
    "        print(letra)"
   ]
  },
  {
   "cell_type": "code",
   "execution_count": null,
   "id": "1f25b5b7-4721-413d-8d8c-45760b01244f",
   "metadata": {},
   "outputs": [],
   "source": [
    "#Paralelo a los métodos variable.upper(), variable.lower() podemos usar variable.isupper() o variable.islower() para preguntarle al ordenador si el elemento es de mayúsculas o minúsculas."
   ]
  },
  {
   "cell_type": "code",
   "execution_count": null,
   "id": "96bd53f4-6ea7-4fbf-a5d3-2ba1b9a01900",
   "metadata": {},
   "outputs": [],
   "source": [
    "if b.isupper():\n",
    "    print(\"yes\")\n",
    "else:\n",
    "    print(\"no\")"
   ]
  },
  {
   "cell_type": "code",
   "execution_count": null,
   "id": "20377ac0-90a7-4497-8029-ee40cfff1a09",
   "metadata": {},
   "outputs": [],
   "source": [
    "#El tercero tipo de datos son las listas.\n",
    "autores = ['Lope', 'Cervantes', 'Calderón', 'Lorca', 'Zayas', 'Lope', 'Lope', 'Calderón']\n",
    "#Podemos acceder la lista por sus índices, empezando en 0. También se puede sacar rangos\n",
    "autores[0]"
   ]
  },
  {
   "cell_type": "code",
   "execution_count": null,
   "id": "6c6ff61b-08c1-4335-b2a9-2f9858fe2bf8",
   "metadata": {},
   "outputs": [],
   "source": [
    "autores[1]"
   ]
  },
  {
   "cell_type": "code",
   "execution_count": null,
   "id": "be55cdf3-7fef-465c-8a71-d740019c9850",
   "metadata": {},
   "outputs": [],
   "source": [
    "autores[0:2]"
   ]
  },
  {
   "cell_type": "code",
   "execution_count": null,
   "id": "fbc5d0bb-5591-4545-b3a0-b2f536e9f2b0",
   "metadata": {},
   "outputs": [],
   "source": [
    "autores[::-1] #al revés\n"
   ]
  },
  {
   "cell_type": "code",
   "execution_count": null,
   "id": "cd170c35-1b48-47a0-8cbb-2ba483c60dca",
   "metadata": {
    "tags": []
   },
   "outputs": [],
   "source": [
    "autores[:0:-1] #desde atrás excluyendo el elemento 0"
   ]
  },
  {
   "cell_type": "code",
   "execution_count": null,
   "id": "83e246d2-8430-4d1a-9ecd-1c061d034918",
   "metadata": {},
   "outputs": [],
   "source": [
    "#si queremos contar algo, abrimos primero un contador.\n",
    "count = 0\n",
    "\n",
    "#ojo que el primero elemento de la lista autores no es la 'L', sino Lope.\n",
    "poeta = \"Lope\"\n",
    "\n",
    "for i in autores:\n",
    "    if i == poeta: #Cada vez que la variable de iteración es igual al valor de la variable se añade +1 al contador.\n",
    "        count = count + 1\n",
    "        \n",
    "print(count)"
   ]
  },
  {
   "cell_type": "code",
   "execution_count": null,
   "id": "17bd9286-2c82-48dd-88b5-f9b75b72d34f",
   "metadata": {},
   "outputs": [],
   "source": [
    "#Aquí abrimos un archivo de texto y le pasamos diferentes métodos con regex para limpiarlo.\n",
    "\n",
    "import re\n",
    "\n",
    "with open('calderon_el-galan-fantasma.txt', encoding ='utf-8') as file:\n",
    "    lines = file.read()\n",
    "    \n",
    "    lines1 = re.sub(r'[^\\w\\s]', '', lines) #eliminamos todo lo que no es texto o whitespace\n",
    "    lines2 = lines1.lower() #pasamos todo a minúscula\n",
    "    lines3 = re.sub(r'^[\\w].*', '', lines2, flags = re.MULTILINE) #nos quedamos con los versos\n",
    "\n",
    "print(lines3)\n",
    "#Este archivo ahora estaría listo para su análisis con un programa, ya que todo está en minúscula y hemos eliminado todo lo que no sean los versos."
   ]
  },
  {
   "cell_type": "markdown",
   "id": "3af88522-b605-4846-b3af-11952c3286a4",
   "metadata": {},
   "source": [
    "# NLP con NLTK y stanza"
   ]
  },
  {
   "cell_type": "code",
   "execution_count": null,
   "id": "52f248fc-d8cf-4160-9389-870ab375e5ac",
   "metadata": {
    "tags": []
   },
   "outputs": [],
   "source": [
    "#pip install stanza\n",
    "#pip install nltk"
   ]
  },
  {
   "cell_type": "code",
   "execution_count": null,
   "id": "53424c15-0a28-4dde-b024-7a881b5e0a6e",
   "metadata": {},
   "outputs": [],
   "source": [
    "#podemos usar diferentes librerías para completar nuestro python\n",
    "import stanza\n",
    "import nltk\n",
    "\n",
    "\n",
    "#depnediendo de lo que hayáis descargado o no habrá que instalar estas librerías primero. El proceso de instalación sólo s necesita una vez\n",
    "#El proceso de importarlas se necesita cada vez que se quiera usar las.\n",
    "#Se aconseja usar pip para instalar las liberías\n",
    "#https://docs.python.org/3/library/re.html#\n",
    "#https://www.nltk.org\n",
    "#https://stanfordnlp.github.io/stanza/\n",
    "\n",
    "#Para el uso de pip: https://www.youtube.com/watch?v=0hHOFZ99iSc"
   ]
  },
  {
   "cell_type": "code",
   "execution_count": null,
   "id": "07b9d48a-1caa-411d-af5e-201a31843c8a",
   "metadata": {},
   "outputs": [],
   "source": [
    "from nltk.tokenize import word_tokenize\n",
    "from nltk.probability import FreqDist"
   ]
  },
  {
   "cell_type": "code",
   "execution_count": null,
   "id": "3412ce3a-632f-4259-81f1-429b9f2b27a8",
   "metadata": {},
   "outputs": [],
   "source": [
    "palabras = word_tokenize(lines3)\n",
    "#palabras"
   ]
  },
  {
   "cell_type": "code",
   "execution_count": null,
   "id": "affc4aa2-a5ac-4c04-a6f9-d72807ed98b7",
   "metadata": {},
   "outputs": [],
   "source": [
    "palabras_frequentes = FreqDist(palabras)\n",
    "most_frequent_words = palabras_frequentes.most_common(100)\n",
    "\n",
    "\n",
    "most_frequent_words\n",
    "\n",
    "\n",
    "#Aquí contamos las palabra más frecuentes con la librería NLTK"
   ]
  },
  {
   "cell_type": "code",
   "execution_count": null,
   "id": "4a55a378-2412-4f2f-b231-7d8ea2a6b1e1",
   "metadata": {},
   "outputs": [],
   "source": [
    "#Guardamos el resultado en un archivo\n",
    "\n",
    "with open('MFW.txt', 'w') as f:\n",
    "    for line in most_frequent_words:\n",
    "        f.write(f\"{line}\\n\")"
   ]
  },
  {
   "cell_type": "code",
   "execution_count": null,
   "id": "4320848f-8ff2-42b6-aab1-c4bd206930a2",
   "metadata": {
    "tags": []
   },
   "outputs": [],
   "source": [
    "#Podemos buscar por concordancias y palabras similares\n",
    " \n",
    "from nltk.text import Text \n",
    "\n",
    "text = Text(palabras)"
   ]
  },
  {
   "cell_type": "code",
   "execution_count": null,
   "id": "d4382de3-1df1-4e54-a5c5-ebca8a36c991",
   "metadata": {
    "tags": []
   },
   "outputs": [],
   "source": [
    "text.concordance('dios', width=50, lines=100)"
   ]
  },
  {
   "cell_type": "code",
   "execution_count": null,
   "id": "75718c06-f8cc-4a7a-bebb-849d31199096",
   "metadata": {
    "tags": []
   },
   "outputs": [],
   "source": [
    "text.similar('amor')"
   ]
  },
  {
   "cell_type": "markdown",
   "id": "bb3c5a85-f806-4ed9-9abf-af350b8fb46e",
   "metadata": {},
   "source": [
    "# Ahora an analizamos el texto con stanza"
   ]
  },
  {
   "cell_type": "code",
   "execution_count": null,
   "id": "f1d6e69d-3983-417a-af55-1867216d0df4",
   "metadata": {},
   "outputs": [],
   "source": [
    "#Este paso solo es necesario una vez.\n",
    "\n",
    "stanza.download('es', processors='tokenize,mwt,pos,lemma,ner')"
   ]
  },
  {
   "cell_type": "code",
   "execution_count": null,
   "id": "3d49b051-c7de-44f2-9081-480a5aa3bb91",
   "metadata": {},
   "outputs": [],
   "source": [
    "nlp = stanza.Pipeline('es') #creamos la pipeline de español"
   ]
  },
  {
   "cell_type": "code",
   "execution_count": null,
   "id": "5bca907f-e526-4ad9-b5b0-3ca136982651",
   "metadata": {},
   "outputs": [],
   "source": [
    "doc = nlp(prueba)\n",
    "doc"
   ]
  },
  {
   "cell_type": "code",
   "execution_count": null,
   "id": "0325d41e-9674-40ae-8fc0-84426e6f1657",
   "metadata": {},
   "outputs": [],
   "source": [
    "resultado = []\n",
    "\n",
    "#doc = nlp(lines)\n",
    "for i in doc.sentences:\n",
    "    for i in i.words:\n",
    "        \n",
    "        resultado.append(f'{i.text} es {i.upos}')\n",
    "        \n",
    "resultado\n",
    "\n",
    "#En este doble loop entramos a i.words y sacamos en cada vuelta dos elementos del análisis y lo mandamos a la lista 'resultado'.\n",
    "#f'{i.text} es {i.upos}' esto es un formatted string que permite combinar variables y string\n",
    "#Si le pasamos en 'nlp(prueba)' 'nlp(lines3' hace lo mismo con el texto que analizamos y limpiamos arriba. Ojo, tarda un poco."
   ]
  },
  {
   "cell_type": "markdown",
   "id": "67da0d24-b7a1-4d88-a3fe-9986b73cdea7",
   "metadata": {},
   "source": [
    "## Ejercicio\n",
    "\n",
    "* Carga el otro archivo de texto del directorio y prueba algunas de las funciones de las librerías NLTK y stanza.\n",
    "\n",
    "* Intenta guardar el resultado de las palabras más frecuentes de la obra de Lope. Ojo: igual tienes que abrir otro archivo nuevo."
   ]
  }
 ],
 "metadata": {
  "kernelspec": {
   "display_name": "Python 3 (ipykernel)",
   "language": "python",
   "name": "python3"
  },
  "language_info": {
   "codemirror_mode": {
    "name": "ipython",
    "version": 3
   },
   "file_extension": ".py",
   "mimetype": "text/x-python",
   "name": "python",
   "nbconvert_exporter": "python",
   "pygments_lexer": "ipython3",
   "version": "3.11.4"
  }
 },
 "nbformat": 4,
 "nbformat_minor": 5
}
