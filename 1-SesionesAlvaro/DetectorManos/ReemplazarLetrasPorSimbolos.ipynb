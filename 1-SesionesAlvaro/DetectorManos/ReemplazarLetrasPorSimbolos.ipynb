{
 "cells": [
  {
   "cell_type": "code",
   "execution_count": 1,
   "id": "434d7d0d-97f0-4990-bfc1-2959743b175f",
   "metadata": {
    "tags": []
   },
   "outputs": [],
   "source": [
    "#Transforma todas las letras en el símbolo de nuestra elección\n",
    "\n",
    "\n",
    "\n",
    "import os\n",
    "\n",
    "def transform_txt_content(file_path):\n",
    "    \"\"\"Reemplaza todos los caracteres de un archivo TXT por el símbolo 'x'.\"\"\"\n",
    "    with open(file_path, 'r', encoding=\"utf-8\") as file:\n",
    "        content = file.read()\n",
    "    \n",
    "    # Reemplaza cada caracter que no sea un espacio en blanco por 'x'\n",
    "    transformed_content = ''.join('x' if c != ' ' and c != '\\n' else c for c in content)\n",
    "\n",
    "    # Escribe el contenido transformado de nuevo en el archivo\n",
    "    with open(file_path, 'w', encoding=\"utf-8\") as file:\n",
    "        file.write(transformed_content)\n",
    "\n",
    "# Definir el directorio principal\n",
    "base_dir = \"/Users/alvarocuellar/Library/Mobile Documents/com~apple~CloudDocs/PROYECTOS/Burgos2023-Materiales/Prueba\"\n",
    "\n",
    "# Recorre recursivamente todos los directorios en busca de archivos TXT\n",
    "for dirpath, dirnames, filenames in os.walk(base_dir):\n",
    "    for file_name in filenames:\n",
    "        if file_name.endswith(\".txt\"):\n",
    "            file_path = os.path.join(dirpath, file_name)\n",
    "            transform_txt_content(file_path)\n"
   ]
  },
  {
   "cell_type": "code",
   "execution_count": null,
   "id": "7415777b-e17a-42b3-b128-630b0760e2cf",
   "metadata": {},
   "outputs": [],
   "source": []
  }
 ],
 "metadata": {
  "kernelspec": {
   "display_name": "Python 3 (ipykernel)",
   "language": "python",
   "name": "python3"
  },
  "language_info": {
   "codemirror_mode": {
    "name": "ipython",
    "version": 3
   },
   "file_extension": ".py",
   "mimetype": "text/x-python",
   "name": "python",
   "nbconvert_exporter": "python",
   "pygments_lexer": "ipython3",
   "version": "3.10.8"
  }
 },
 "nbformat": 4,
 "nbformat_minor": 5
}
